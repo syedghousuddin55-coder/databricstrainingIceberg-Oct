{
 "cells": [
  {
   "cell_type": "markdown",
   "metadata": {
    "application/vnd.databricks.v1+cell": {
     "cellMetadata": {},
     "inputWidgets": {},
     "nuid": "d4cdc243-abc9-4b48-9c5a-0209161aba0b",
     "showTitle": false,
     "tableResultSettingsMap": {},
     "title": ""
    }
   },
   "source": [
    "![](/Volumes/dev/naval/raw/image/)"
   ]
  },
  {
   "cell_type": "code",
   "execution_count": 0,
   "metadata": {
    "application/vnd.databricks.v1+cell": {
     "cellMetadata": {
      "byteLimit": 2048000,
      "rowLimit": 10000
     },
     "collapsed": true,
     "inputWidgets": {},
     "nuid": "65bef36e-0100-4636-8aa3-2a219eff5383",
     "showTitle": false,
     "tableResultSettingsMap": {},
     "title": ""
    }
   },
   "outputs": [],
   "source": [
    "df=spark.read.option(\"header\", True).option(\"inferSchema\", True).csv(\"/Volumes/dev/naval/raw/csv/financial_dataset.csv\")\n",
    "df.display();"
   ]
  },
  {
   "cell_type": "code",
   "execution_count": 0,
   "metadata": {
    "application/vnd.databricks.v1+cell": {
     "cellMetadata": {
      "byteLimit": 2048000,
      "rowLimit": 10000
     },
     "inputWidgets": {},
     "nuid": "fcb628bb-33bb-4ac6-8758-e36287830d9d",
     "showTitle": false,
     "tableResultSettingsMap": {},
     "title": ""
    }
   },
   "outputs": [],
   "source": [
    "df.write.saveAsTable(\"dev.syed.financialSyed\")"
   ]
  },
  {
   "cell_type": "code",
   "execution_count": 0,
   "metadata": {
    "application/vnd.databricks.v1+cell": {
     "cellMetadata": {
      "byteLimit": 2048000,
      "rowLimit": 10000
     },
     "inputWidgets": {},
     "nuid": "40d373f2-841a-4787-bdb8-519becad9ef8",
     "showTitle": false,
     "tableResultSettingsMap": {},
     "title": ""
    }
   },
   "outputs": [],
   "source": [
    "(\n",
    "    spark\n",
    "    .read\n",
    "    .csv(\"/Volumes/dev/naval/raw/csv/financial_dataset.csv\",header=True,inferSchema=True)\n",
    "    .write\n",
    "    .mode(\"overwrite\")\n",
    "    .saveAsTable(\"dev.syed.financial\")\n",
    "    )"
   ]
  },
  {
   "cell_type": "code",
   "execution_count": 0,
   "metadata": {
    "application/vnd.databricks.v1+cell": {
     "cellMetadata": {
      "byteLimit": 2048000,
      "rowLimit": 10000
     },
     "inputWidgets": {},
     "nuid": "777b2391-25c2-4ac4-b377-5ea0ee789577",
     "showTitle": false,
     "tableResultSettingsMap": {},
     "title": ""
    }
   },
   "outputs": [],
   "source": [
    "(\n",
    "    spark\n",
    "    .read\n",
    "    .csv(\"/Volumes/dev/naval/raw/csv/financial_dataset.csv\",header=True,inferSchema=True)\n",
    "    .filter(\"Branch='New York'\")\n",
    "    .withColumnRenamed(\"CustomerID\",\"customer_id\")\n",
    "    .write\n",
    "    .mode(\"overwrite\")\n",
    "    .option(\"mergeSchema\", \"true\")\n",
    "    .saveAsTable(\"dev.syed.financialNew\")\n",
    "    )"
   ]
  },
  {
   "cell_type": "code",
   "execution_count": 0,
   "metadata": {
    "application/vnd.databricks.v1+cell": {
     "cellMetadata": {
      "byteLimit": 2048000,
      "rowLimit": 10000
     },
     "inputWidgets": {},
     "nuid": "3af24522-9340-4608-bd0f-5c32261e47ce",
     "showTitle": false,
     "tableResultSettingsMap": {},
     "title": ""
    }
   },
   "outputs": [],
   "source": [
    "# df=spark.read.table(\"dev.syed.financial\");\n",
    "# df.filter(\"Branch='New York'\").explain();\n",
    "# df.filter(\"Branch='New York'\").display();\n",
    "\n",
    "df.withColumnsRenamed({\"TransactionID\":\"transaction_id\",\"CustomerID\":\"customer_id\"})"
   ]
  },
  {
   "cell_type": "code",
   "execution_count": 0,
   "metadata": {
    "application/vnd.databricks.v1+cell": {
     "cellMetadata": {
      "byteLimit": 2048000,
      "rowLimit": 10000
     },
     "inputWidgets": {},
     "nuid": "84fc16ca-b62c-484b-8952-c7f546357860",
     "showTitle": false,
     "tableResultSettingsMap": {},
     "title": ""
    }
   },
   "outputs": [],
   "source": [
    "df=spark.read.table(\"dev.syed.financial\");\n",
    "df.filter(\"Branch='New York'\").explain();\n",
    "df.filter(\"Branch='New York'\").display();"
   ]
  },
  {
   "cell_type": "code",
   "execution_count": 0,
   "metadata": {
    "application/vnd.databricks.v1+cell": {
     "cellMetadata": {
      "byteLimit": 2048000,
      "implicitDf": true,
      "rowLimit": 10000
     },
     "inputWidgets": {},
     "nuid": "8dda2cf6-904a-4d46-9fe9-f12f1d88e76c",
     "showTitle": false,
     "tableResultSettingsMap": {
      "0": {
       "dataGridStateBlob": "{\"version\":1,\"tableState\":{\"columnPinning\":{\"left\":[\"#row_number#\"],\"right\":[]},\"columnSizing\":{},\"columnVisibility\":{}},\"settings\":{\"columns\":{}},\"syncTimestamp\":1761556362234}",
       "filterBlob": null,
       "queryPlanFiltersBlob": null,
       "tableResultIndex": 0
      }
     },
     "title": ""
    }
   },
   "outputs": [],
   "source": [
    "%sql\n",
    "use catalog dev;\n",
    "use schema syed;\n",
    "select * from financialsyed;\n",
    "-- alter table financialsyed drop column if exists id;\n"
   ]
  },
  {
   "cell_type": "code",
   "execution_count": 0,
   "metadata": {
    "application/vnd.databricks.v1+cell": {
     "cellMetadata": {
      "byteLimit": 2048000,
      "rowLimit": 10000
     },
     "inputWidgets": {},
     "nuid": "ada49899-44c9-4e32-ac60-d0ef5392f34b",
     "showTitle": false,
     "tableResultSettingsMap": {},
     "title": ""
    }
   },
   "outputs": [],
   "source": [
    "from pyspark.sql.functions import *\n",
    "# df.withColumn(\"AmountUSD\", round(\"AmountUSD\")).withColumn(\"ingestion_date\", current_date()).withColumn(\"env\", lit(\"dev\")).display()\n",
    "input_path=\"/Volumes/dev/naval/raw/accounts.json\"\n",
    "df1=spark.read.option(\"multiLine\",True)\\\n",
    "    .json(input_path,multiLine=True)\\\n",
    "    .withColumn(\"nominee_name\", col(\"nominee_details.nominee_name\"))\\\n",
    "        .withColumn(\"relationship\", col(\"nominee_details.relationship\"))\\\n",
    "            .withColumn(\"ingestion_date\", current_timestamp())\\\n",
    "                .withColumnRenamed(\"account_id\",\"accountid\")\\\n",
    "                    .drop(\"nominee_details\", \"created_timestamp\")\\\n",
    "                        .write\\\n",
    "                            .mode(\"overwrite\")\\\n",
    "                                .saveAsTable(\"dev.syed.accountsSyed\")"
   ]
  },
  {
   "cell_type": "code",
   "execution_count": 0,
   "metadata": {
    "application/vnd.databricks.v1+cell": {
     "cellMetadata": {
      "byteLimit": 2048000,
      "rowLimit": 10000
     },
     "inputWidgets": {},
     "nuid": "4e0aa69a-67fe-4bc6-97ef-22eacb4ccd15",
     "showTitle": false,
     "tableResultSettingsMap": {},
     "title": ""
    }
   },
   "outputs": [],
   "source": [
    "input_path=\"/Volumes/dev/naval/raw/part-00006-4ece8039-e05f-4114-8262-9d82c9ee1e62-c000.snappy.parquet\"\n",
    "df1=spark.read.parquet(input_path)\\\n",
    "    .write\\\n",
    "        .mode(\"overwrite\")\\\n",
    "            .saveAsTable(\"dev.syed.testParquet\");\n",
    "        \n"
   ]
  },
  {
   "cell_type": "code",
   "execution_count": 0,
   "metadata": {
    "application/vnd.databricks.v1+cell": {
     "cellMetadata": {
      "byteLimit": 2048000,
      "rowLimit": 10000
     },
     "inputWidgets": {},
     "nuid": "490e80fc-9bda-41b9-9727-3131bb282706",
     "showTitle": false,
     "tableResultSettingsMap": {},
     "title": ""
    }
   },
   "outputs": [],
   "source": [
    "df2=spark.read.table(\"dev.syed.testParquet\").printSchema()"
   ]
  },
  {
   "cell_type": "code",
   "execution_count": 0,
   "metadata": {
    "application/vnd.databricks.v1+cell": {
     "cellMetadata": {
      "byteLimit": 2048000,
      "implicitDf": true,
      "rowLimit": 10000
     },
     "inputWidgets": {},
     "nuid": "fdaa69fe-31a9-459f-8e85-ce9575a70798",
     "showTitle": false,
     "tableResultSettingsMap": {},
     "title": ""
    }
   },
   "outputs": [],
   "source": [
    "%sql\n",
    "use catalog dev;\n",
    "create schema IF NOT EXISTS syed;\n",
    "\n",
    "use catalog dev;\n",
    "use schema syed;\n",
    "create table IF NOT EXISTS sampleTable(id int, name string);\n",
    "drop model testmodel;\n",
    "\n",
    "\n"
   ]
  }
 ],
 "metadata": {
  "application/vnd.databricks.v1+notebook": {
   "computePreferences": null,
   "dashboards": [],
   "environmentMetadata": {
    "base_environment": "",
    "environment_version": "4"
   },
   "inputWidgetPreferences": null,
   "language": "python",
   "notebookMetadata": {
    "mostRecentlyExecutedCommandWithImplicitDF": {
     "commandId": 7764641555668187,
     "dataframes": [
      "_sqldf"
     ]
    },
    "pythonIndentUnit": 4
   },
   "notebookName": "DataObjects",
   "widgets": {}
  },
  "language_info": {
   "name": "python"
  }
 },
 "nbformat": 4,
 "nbformat_minor": 0
}
